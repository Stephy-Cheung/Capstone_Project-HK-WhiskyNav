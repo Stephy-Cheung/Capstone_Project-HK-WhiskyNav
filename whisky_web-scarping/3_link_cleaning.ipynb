{
 "metadata": {
  "language_info": {
   "codemirror_mode": {
    "name": "ipython",
    "version": 3
   },
   "file_extension": ".py",
   "mimetype": "text/x-python",
   "name": "python",
   "nbconvert_exporter": "python",
   "pygments_lexer": "ipython3",
   "version": "3.8.8"
  },
  "orig_nbformat": 4,
  "kernelspec": {
   "name": "python3",
   "display_name": "Python 3.8.8 64-bit ('FTDS': conda)"
  },
  "interpreter": {
   "hash": "7e7ae8b1718174e9f443afd7248b60321c4690586460e9e9bc3b215bfdbba77d"
  }
 },
 "nbformat": 4,
 "nbformat_minor": 2,
 "cells": [
  {
   "cell_type": "code",
   "execution_count": 1,
   "metadata": {},
   "outputs": [],
   "source": [
    "import pandas as pd "
   ]
  },
  {
   "cell_type": "code",
   "execution_count": 35,
   "metadata": {},
   "outputs": [
    {
     "output_type": "execute_result",
     "data": {
      "text/plain": [
       "           Name Year                                          hkls_name  \\\n",
       "0     Lagavulin   16     'Lagavulin 16 Years Single Malt Scotch Whisky'   \n",
       "1        Ardbeg   10                                                      \n",
       "2      Balvenie   12  'The Balvenie 12 Years Single Barrel First Fil...   \n",
       "3     Laphroaig   10     'Laphroaig 10 Years Single Malt Scotch Whisky'   \n",
       "4  Glenmorangie   10  'Glenmorangie The Original 10 Years Single Mal...   \n",
       "\n",
       "                                           hkls_link  \\\n",
       "0  'https://www.hkliquorstore.com/index.php/lagav...   \n",
       "1                                                      \n",
       "2  'https://www.hkliquorstore.com/index.php/the-b...   \n",
       "3  'https://www.hkliquorstore.com/index.php/laphr...   \n",
       "4  'https://www.hkliquorstore.com/index.php/glenm...   \n",
       "\n",
       "                                          price_name  \\\n",
       "0                          'Lagavulin Aged 16 Years'   \n",
       "1  'Ardbeg 10 Years Old Single Malt Whisky 700ml'...   \n",
       "2                  'Balvenie 12 Year Old DoubleWood'   \n",
       "3                           'Laphroaig 10 Years Old'   \n",
       "4  'Glenmorangie 10 YEAR OLD THE ORIGINAL', 'Glen...   \n",
       "\n",
       "                                          price_link  \\\n",
       "0    'https://www.price.com.hk/product.php?p=270584'   \n",
       "1  'https://www.price.com.hk/product.php?p=341421...   \n",
       "2    'https://www.price.com.hk/product.php?p=220964'   \n",
       "3    'https://www.price.com.hk/product.php?p=256951'   \n",
       "4  'https://www.price.com.hk/product.php?p=417769...   \n",
       "\n",
       "                                        wastons_name  \\\n",
       "0        'Lagavulin 16 Years Old Single Malt Whisky'   \n",
       "1      'Ardbeg 10 Year Old Islay Single Malt Whisky'   \n",
       "2  'Balvenie Doublewood 12 Years Single Malt Scot...   \n",
       "3         'Laphroaig 10 Year Old Single Malt Whisky'   \n",
       "4                                                      \n",
       "\n",
       "                                        wastons_link  \n",
       "0  'https://www.watsonswine.com/en/wine/lagavulin...  \n",
       "1  'https://www.watsonswine.com/en/wine/ardbeg-10...  \n",
       "2  'https://www.watsonswine.com/en/wine/balvenie-...  \n",
       "3  'https://www.watsonswine.com/en/wine/laphroaig...  \n",
       "4                                                     "
      ],
      "text/html": "<div>\n<style scoped>\n    .dataframe tbody tr th:only-of-type {\n        vertical-align: middle;\n    }\n\n    .dataframe tbody tr th {\n        vertical-align: top;\n    }\n\n    .dataframe thead th {\n        text-align: right;\n    }\n</style>\n<table border=\"1\" class=\"dataframe\">\n  <thead>\n    <tr style=\"text-align: right;\">\n      <th></th>\n      <th>Name</th>\n      <th>Year</th>\n      <th>hkls_name</th>\n      <th>hkls_link</th>\n      <th>price_name</th>\n      <th>price_link</th>\n      <th>wastons_name</th>\n      <th>wastons_link</th>\n    </tr>\n  </thead>\n  <tbody>\n    <tr>\n      <th>0</th>\n      <td>Lagavulin</td>\n      <td>16</td>\n      <td>'Lagavulin 16 Years Single Malt Scotch Whisky'</td>\n      <td>'https://www.hkliquorstore.com/index.php/lagav...</td>\n      <td>'Lagavulin Aged 16 Years'</td>\n      <td>'https://www.price.com.hk/product.php?p=270584'</td>\n      <td>'Lagavulin 16 Years Old Single Malt Whisky'</td>\n      <td>'https://www.watsonswine.com/en/wine/lagavulin...</td>\n    </tr>\n    <tr>\n      <th>1</th>\n      <td>Ardbeg</td>\n      <td>10</td>\n      <td></td>\n      <td></td>\n      <td>'Ardbeg 10 Years Old Single Malt Whisky 700ml'...</td>\n      <td>'https://www.price.com.hk/product.php?p=341421...</td>\n      <td>'Ardbeg 10 Year Old Islay Single Malt Whisky'</td>\n      <td>'https://www.watsonswine.com/en/wine/ardbeg-10...</td>\n    </tr>\n    <tr>\n      <th>2</th>\n      <td>Balvenie</td>\n      <td>12</td>\n      <td>'The Balvenie 12 Years Single Barrel First Fil...</td>\n      <td>'https://www.hkliquorstore.com/index.php/the-b...</td>\n      <td>'Balvenie 12 Year Old DoubleWood'</td>\n      <td>'https://www.price.com.hk/product.php?p=220964'</td>\n      <td>'Balvenie Doublewood 12 Years Single Malt Scot...</td>\n      <td>'https://www.watsonswine.com/en/wine/balvenie-...</td>\n    </tr>\n    <tr>\n      <th>3</th>\n      <td>Laphroaig</td>\n      <td>10</td>\n      <td>'Laphroaig 10 Years Single Malt Scotch Whisky'</td>\n      <td>'https://www.hkliquorstore.com/index.php/laphr...</td>\n      <td>'Laphroaig 10 Years Old'</td>\n      <td>'https://www.price.com.hk/product.php?p=256951'</td>\n      <td>'Laphroaig 10 Year Old Single Malt Whisky'</td>\n      <td>'https://www.watsonswine.com/en/wine/laphroaig...</td>\n    </tr>\n    <tr>\n      <th>4</th>\n      <td>Glenmorangie</td>\n      <td>10</td>\n      <td>'Glenmorangie The Original 10 Years Single Mal...</td>\n      <td>'https://www.hkliquorstore.com/index.php/glenm...</td>\n      <td>'Glenmorangie 10 YEAR OLD THE ORIGINAL', 'Glen...</td>\n      <td>'https://www.price.com.hk/product.php?p=417769...</td>\n      <td></td>\n      <td></td>\n    </tr>\n  </tbody>\n</table>\n</div>"
     },
     "metadata": {},
     "execution_count": 35
    }
   ],
   "source": [
    "top100_whisky = pd.read_csv('Top100_whisky.csv')\n",
    "for col in top100_whisky.columns[2:]:\n",
    "    top100_whisky[col] = top100_whisky[col].apply(lambda x : x.lstrip('[').rstrip(']'))\n",
    "top100_whisky.head()"
   ]
  },
  {
   "cell_type": "code",
   "execution_count": 2,
   "metadata": {},
   "outputs": [],
   "source": [
    "top100_whisky = pd.read_csv('Top100_whisky.csv')"
   ]
  },
  {
   "cell_type": "code",
   "execution_count": 3,
   "metadata": {},
   "outputs": [
    {
     "output_type": "stream",
     "name": "stdout",
     "text": [
      "Glenmorangie \n\n10 \n\nGlenmorangie The Original 10 Years Single Malt Whisky \n\nhttps://www.hkliquorstore.com/index.php/glenmorangie-the-original-10-years-single-malt-whisky.html \n\nGlenmorangie 10 YEAR OLD THE ORIGINAL', 'Glenmorangie Original 10 Years Old Single Malt Scotch Whisky', 'Glenmorangie The Original Aged 10 Years (Limited Edition Giraffe Gift Pack) \n\nhttps://www.price.com.hk/product.php?p=417769', 'https://www.price.com.hk/product.php?p=213443', 'https://www.price.com.hk/product.php?p=492610 \n\nnan \n\nnan \n\n"
     ]
    }
   ],
   "source": [
    "bottle = 4\n",
    "for info in top100_whisky.iloc[bottle]:\n",
    "    print (info, '\\n')"
   ]
  },
  {
   "cell_type": "code",
   "execution_count": 177,
   "metadata": {},
   "outputs": [],
   "source": [
    "# hkls  ========update by name \n",
    "top100_whisky.iloc[bottle,2] = None\n",
    "top100_whisky.iloc[bottle,3] = None"
   ]
  },
  {
   "cell_type": "code",
   "execution_count": 202,
   "metadata": {},
   "outputs": [],
   "source": [
    "# hkls  ========update by select one item from list \n",
    "name = top100_whisky.iloc[bottle,2].split(',')\n",
    "link = top100_whisky.iloc[bottle,3].split(',')\n",
    "top100_whisky.iloc[bottle,2] = name[1]\n",
    "top100_whisky.iloc[bottle,3] = link[1]"
   ]
  },
  {
   "cell_type": "code",
   "execution_count": 185,
   "metadata": {},
   "outputs": [],
   "source": [
    "# price  ========update by name \n",
    "top100_whisky.iloc[bottle,4] = None\n",
    "top100_whisky.iloc[bottle,5] = None"
   ]
  },
  {
   "cell_type": "code",
   "execution_count": 4,
   "metadata": {},
   "outputs": [],
   "source": [
    "# price  ========update by select one item from list \n",
    "name = top100_whisky.iloc[bottle,4].split(',')\n",
    "link = top100_whisky.iloc[bottle,5].split(',')\n",
    "top100_whisky.iloc[bottle,4] = name[1]\n",
    "top100_whisky.iloc[bottle,5] = link[1]"
   ]
  },
  {
   "cell_type": "code",
   "execution_count": null,
   "metadata": {},
   "outputs": [],
   "source": []
  },
  {
   "cell_type": "code",
   "execution_count": 233,
   "metadata": {},
   "outputs": [],
   "source": [
    "# watsons ========update by name \n",
    "top100_whisky.iloc[bottle,6] = ''\n",
    "top100_whisky.iloc[bottle,7] = ''"
   ]
  },
  {
   "cell_type": "code",
   "execution_count": 234,
   "metadata": {},
   "outputs": [
    {
     "output_type": "stream",
     "name": "stdout",
     "text": [
      "Glenmorangie \n\n10 \n\n'Glenmorangie The Original 10 Years Single Malt Whisky' \n\n'https://www.hkliquorstore.com/index.php/glenmorangie-the-original-10-years-single-malt-whisky.html' \n\n'Glenmorangie 10 YEAR OLD THE ORIGINAL', 'Glenmorangie Original 10 Years Old Single Malt Scotch Whisky', 'Glenmorangie The Original Aged 10 Years (Limited Edition Giraffe Gift Pack)' \n\n'https://www.price.com.hk/product.php?p=417769', 'https://www.price.com.hk/product.php?p=213443', 'https://www.price.com.hk/product.php?p=492610' \n\n \n\n \n\n"
     ]
    }
   ],
   "source": [
    "for info in top100_whisky.iloc[bottle]:\n",
    "    print (info, '\\n')"
   ]
  },
  {
   "cell_type": "code",
   "execution_count": 5,
   "metadata": {},
   "outputs": [],
   "source": [
    "top100_whisky.to_csv('Top100_whisky.csv', index=False)"
   ]
  },
  {
   "source": [
    "# To be updated: \n",
    "\n",
    "\n",
    "# Cannot find in HK\n",
    "# 17: Glenfarclas 15\n",
    "# 35: Edradour 10 \n",
    "# 44: Bakers 7\n",
    "# 45: Edradour 12\n",
    "# 73: Blair Athol 12 \n",
    "# 90: Redbreast 15\n",
    "\n",
    "\n",
    "# Remark \n",
    "## 55: Glen Garioch 12, Single Malt Whisky(hkls), Virgin Oak (price.com)\n",
    "## 59: Benriach 10,  Take -Single Malt Scotch Whisky, give up The BenRiach Curiositas 10years(picture is the white bottle)\n",
    "## 60: Benriach 15,  Take -Pedro Ximenez Finish Single Malt Whisky/ give up Wood Finish Single Malt Whisky\n",
    "## 41: Macallan 12,  Take -Sherry Oak \n",
    "## 89: Macallan 18,  Take -Sherry Oak "
   ],
   "cell_type": "markdown",
   "metadata": {}
  },
  {
   "cell_type": "code",
   "execution_count": 240,
   "metadata": {},
   "outputs": [],
   "source": [
    "top100_whisky = pd.read_csv('Top100_whisky.csv')"
   ]
  },
  {
   "cell_type": "code",
   "execution_count": 241,
   "metadata": {},
   "outputs": [
    {
     "output_type": "stream",
     "name": "stdout",
     "text": [
      "<class 'pandas.core.frame.DataFrame'>\nRangeIndex: 100 entries, 0 to 99\nData columns (total 8 columns):\n #   Column        Non-Null Count  Dtype \n---  ------        --------------  ----- \n 0   Name          100 non-null    object\n 1   Year          100 non-null    object\n 2   hkls_name     80 non-null     object\n 3   hkls_link     80 non-null     object\n 4   price_name    81 non-null     object\n 5   price_link    81 non-null     object\n 6   wastons_name  31 non-null     object\n 7   wastons_link  31 non-null     object\ndtypes: object(8)\nmemory usage: 6.4+ KB\n"
     ]
    }
   ],
   "source": [
    "top100_whisky.info()"
   ]
  },
  {
   "cell_type": "code",
   "execution_count": 259,
   "metadata": {},
   "outputs": [],
   "source": [
    "for r in range (len(top100_whisky['Name'])):\n",
    "    for c in range(2,8):\n",
    "        try:\n",
    "            top100_whisky.iloc[r,c] = top100_whisky.iloc[r,c].lstrip(\" '\").rstrip(\" '\")\n",
    "        except:\n",
    "            pass"
   ]
  },
  {
   "cell_type": "code",
   "execution_count": 260,
   "metadata": {},
   "outputs": [
    {
     "output_type": "execute_result",
     "data": {
      "text/plain": [
       "           Name Year                                          hkls_name  \\\n",
       "0     Lagavulin   16       Lagavulin 16 Years Single Malt Scotch Whisky   \n",
       "1        Ardbeg   10            Ardbeg Ten Years Old Single Malt Whisky   \n",
       "2      Balvenie   12  The Balvenie DoubleWood 12 Years Single Malt W...   \n",
       "3     Laphroaig   10       Laphroaig 10 Years Single Malt Scotch Whisky   \n",
       "4  Glenmorangie   10  Glenmorangie The Original 10 Years Single Malt...   \n",
       "\n",
       "                                           hkls_link  \\\n",
       "0  https://www.hkliquorstore.com/index.php/lagavu...   \n",
       "1  https://www.hkliquorstore.com/index.php/ardbeg...   \n",
       "2  https://www.hkliquorstore.com/index.php/the-ba...   \n",
       "3  https://www.hkliquorstore.com/index.php/laphro...   \n",
       "4  https://www.hkliquorstore.com/index.php/glenmo...   \n",
       "\n",
       "                                          price_name  \\\n",
       "0                            Lagavulin Aged 16 Years   \n",
       "1       Ardbeg 10 Years Old Single Malt Whisky 700ml   \n",
       "2                    Balvenie 12 Year Old DoubleWood   \n",
       "3                             Laphroaig 10 Years Old   \n",
       "4  Glenmorangie 10 YEAR OLD THE ORIGINAL', 'Glenm...   \n",
       "\n",
       "                                          price_link  \\\n",
       "0      https://www.price.com.hk/product.php?p=270584   \n",
       "1      https://www.price.com.hk/product.php?p=341421   \n",
       "2      https://www.price.com.hk/product.php?p=220964   \n",
       "3      https://www.price.com.hk/product.php?p=256951   \n",
       "4  https://www.price.com.hk/product.php?p=417769'...   \n",
       "\n",
       "                                        wastons_name  \\\n",
       "0          Lagavulin 16 Years Old Single Malt Whisky   \n",
       "1        Ardbeg 10 Year Old Islay Single Malt Whisky   \n",
       "2  Balvenie Doublewood 12 Years Single Malt Scotc...   \n",
       "3           Laphroaig 10 Year Old Single Malt Whisky   \n",
       "4                                                NaN   \n",
       "\n",
       "                                        wastons_link  \n",
       "0  https://www.watsonswine.com/en/wine/lagavulin-...  \n",
       "1  https://www.watsonswine.com/en/wine/ardbeg-10-...  \n",
       "2  https://www.watsonswine.com/en/wine/balvenie-d...  \n",
       "3  https://www.watsonswine.com/en/wine/laphroaig-...  \n",
       "4                                                NaN  "
      ],
      "text/html": "<div>\n<style scoped>\n    .dataframe tbody tr th:only-of-type {\n        vertical-align: middle;\n    }\n\n    .dataframe tbody tr th {\n        vertical-align: top;\n    }\n\n    .dataframe thead th {\n        text-align: right;\n    }\n</style>\n<table border=\"1\" class=\"dataframe\">\n  <thead>\n    <tr style=\"text-align: right;\">\n      <th></th>\n      <th>Name</th>\n      <th>Year</th>\n      <th>hkls_name</th>\n      <th>hkls_link</th>\n      <th>price_name</th>\n      <th>price_link</th>\n      <th>wastons_name</th>\n      <th>wastons_link</th>\n    </tr>\n  </thead>\n  <tbody>\n    <tr>\n      <th>0</th>\n      <td>Lagavulin</td>\n      <td>16</td>\n      <td>Lagavulin 16 Years Single Malt Scotch Whisky</td>\n      <td>https://www.hkliquorstore.com/index.php/lagavu...</td>\n      <td>Lagavulin Aged 16 Years</td>\n      <td>https://www.price.com.hk/product.php?p=270584</td>\n      <td>Lagavulin 16 Years Old Single Malt Whisky</td>\n      <td>https://www.watsonswine.com/en/wine/lagavulin-...</td>\n    </tr>\n    <tr>\n      <th>1</th>\n      <td>Ardbeg</td>\n      <td>10</td>\n      <td>Ardbeg Ten Years Old Single Malt Whisky</td>\n      <td>https://www.hkliquorstore.com/index.php/ardbeg...</td>\n      <td>Ardbeg 10 Years Old Single Malt Whisky 700ml</td>\n      <td>https://www.price.com.hk/product.php?p=341421</td>\n      <td>Ardbeg 10 Year Old Islay Single Malt Whisky</td>\n      <td>https://www.watsonswine.com/en/wine/ardbeg-10-...</td>\n    </tr>\n    <tr>\n      <th>2</th>\n      <td>Balvenie</td>\n      <td>12</td>\n      <td>The Balvenie DoubleWood 12 Years Single Malt W...</td>\n      <td>https://www.hkliquorstore.com/index.php/the-ba...</td>\n      <td>Balvenie 12 Year Old DoubleWood</td>\n      <td>https://www.price.com.hk/product.php?p=220964</td>\n      <td>Balvenie Doublewood 12 Years Single Malt Scotc...</td>\n      <td>https://www.watsonswine.com/en/wine/balvenie-d...</td>\n    </tr>\n    <tr>\n      <th>3</th>\n      <td>Laphroaig</td>\n      <td>10</td>\n      <td>Laphroaig 10 Years Single Malt Scotch Whisky</td>\n      <td>https://www.hkliquorstore.com/index.php/laphro...</td>\n      <td>Laphroaig 10 Years Old</td>\n      <td>https://www.price.com.hk/product.php?p=256951</td>\n      <td>Laphroaig 10 Year Old Single Malt Whisky</td>\n      <td>https://www.watsonswine.com/en/wine/laphroaig-...</td>\n    </tr>\n    <tr>\n      <th>4</th>\n      <td>Glenmorangie</td>\n      <td>10</td>\n      <td>Glenmorangie The Original 10 Years Single Malt...</td>\n      <td>https://www.hkliquorstore.com/index.php/glenmo...</td>\n      <td>Glenmorangie 10 YEAR OLD THE ORIGINAL', 'Glenm...</td>\n      <td>https://www.price.com.hk/product.php?p=417769'...</td>\n      <td>NaN</td>\n      <td>NaN</td>\n    </tr>\n  </tbody>\n</table>\n</div>"
     },
     "metadata": {},
     "execution_count": 260
    }
   ],
   "source": [
    "top100_whisky.head()"
   ]
  },
  {
   "cell_type": "code",
   "execution_count": 262,
   "metadata": {},
   "outputs": [],
   "source": [
    "top100_whisky.to_csv('Top100_whisky.csv', index=False)"
   ]
  },
  {
   "cell_type": "code",
   "execution_count": null,
   "metadata": {},
   "outputs": [],
   "source": []
  }
 ]
}