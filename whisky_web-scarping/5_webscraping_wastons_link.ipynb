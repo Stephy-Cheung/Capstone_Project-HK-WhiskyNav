{
 "metadata": {
  "language_info": {
   "codemirror_mode": {
    "name": "ipython",
    "version": 3
   },
   "file_extension": ".py",
   "mimetype": "text/x-python",
   "name": "python",
   "nbconvert_exporter": "python",
   "pygments_lexer": "ipython3",
   "version": "3.8.8"
  },
  "orig_nbformat": 4,
  "kernelspec": {
   "name": "python3",
   "display_name": "Python 3.8.8 64-bit ('FTDS': conda)"
  },
  "interpreter": {
   "hash": "7e7ae8b1718174e9f443afd7248b60321c4690586460e9e9bc3b215bfdbba77d"
  }
 },
 "nbformat": 4,
 "nbformat_minor": 2,
 "cells": [
  {
   "cell_type": "code",
   "execution_count": 4,
   "metadata": {},
   "outputs": [],
   "source": [
    "from selenium import webdriver\n",
    "from selenium.webdriver.common.desired_capabilities import DesiredCapabilities\n",
    "from selenium.webdriver.support.ui import WebDriverWait\n",
    "from selenium.webdriver.support import expected_conditions as EC\n",
    "from selenium.webdriver.common.by import By\n",
    "import time\n",
    "from selenium.webdriver.common.keys import Keys\n",
    "from webdriver_manager.chrome import ChromeDriverManager\n",
    "\n",
    "import pandas as pd \n",
    "import re \n",
    "\n",
    "# To close the web browser \n",
    "# from selenium import webdriver   # for webdriver\n",
    "# from selenium.webdriver.support.ui import WebDriverWait  # for implicit and explict waits\n",
    "# from selenium.webdriver.chrome.options import Options  # for suppressing the browser"
   ]
  },
  {
   "source": [
    "## create dataframe"
   ],
   "cell_type": "markdown",
   "metadata": {}
  },
  {
   "cell_type": "code",
   "execution_count": 95,
   "metadata": {},
   "outputs": [
    {
     "output_type": "error",
     "ename": "KeyboardInterrupt",
     "evalue": "",
     "traceback": [
      "\u001b[1;31m---------------------------------------------------------------------------\u001b[0m",
      "\u001b[1;31mKeyboardInterrupt\u001b[0m                         Traceback (most recent call last)",
      "\u001b[1;32m<ipython-input-95-c2b821cafd9a>\u001b[0m in \u001b[0;36m<module>\u001b[1;34m\u001b[0m\n\u001b[0;32m     23\u001b[0m         \u001b[0mdriver\u001b[0m \u001b[1;33m=\u001b[0m \u001b[0mwebdriver\u001b[0m\u001b[1;33m.\u001b[0m\u001b[0mChrome\u001b[0m\u001b[1;33m(\u001b[0m\u001b[1;34m'../chromedriver'\u001b[0m\u001b[1;33m,\u001b[0m\u001b[0mdesired_capabilities\u001b[0m\u001b[1;33m=\u001b[0m\u001b[0mcapa\u001b[0m\u001b[1;33m)\u001b[0m\u001b[1;33m\u001b[0m\u001b[1;33m\u001b[0m\u001b[0m\n\u001b[0;32m     24\u001b[0m         \u001b[0mdriver\u001b[0m\u001b[1;33m.\u001b[0m\u001b[0mget\u001b[0m\u001b[1;33m(\u001b[0m\u001b[0mp\u001b[0m\u001b[1;33m)\u001b[0m\u001b[1;33m\u001b[0m\u001b[1;33m\u001b[0m\u001b[0m\n\u001b[1;32m---> 25\u001b[1;33m         \u001b[0mtime\u001b[0m\u001b[1;33m.\u001b[0m\u001b[0msleep\u001b[0m\u001b[1;33m(\u001b[0m\u001b[1;36m10\u001b[0m\u001b[1;33m)\u001b[0m\u001b[1;33m\u001b[0m\u001b[1;33m\u001b[0m\u001b[0m\n\u001b[0m\u001b[0;32m     26\u001b[0m         \u001b[0mdriver\u001b[0m\u001b[1;33m.\u001b[0m\u001b[0mexecute_script\u001b[0m\u001b[1;33m(\u001b[0m\u001b[1;34m\"window.stop();\"\u001b[0m\u001b[1;33m)\u001b[0m\u001b[1;33m\u001b[0m\u001b[1;33m\u001b[0m\u001b[0m\n\u001b[0;32m     27\u001b[0m         \u001b[0mdriver\u001b[0m\u001b[1;33m.\u001b[0m\u001b[0mmaximize_window\u001b[0m\u001b[1;33m(\u001b[0m\u001b[1;33m)\u001b[0m\u001b[1;33m\u001b[0m\u001b[1;33m\u001b[0m\u001b[0m\n",
      "\u001b[1;31mKeyboardInterrupt\u001b[0m: "
     ]
    }
   ],
   "source": [
    "top100_whisky = pd.read_csv('Top100_whisky.csv')\n",
    "\n",
    "# create whisky details csv for hkls \n",
    "whisky_name = top100_whisky.iloc[:,0:2].copy()\n",
    "wastons_name = top100_whisky.iloc[:,6:8].copy()\n",
    "watsons_details = pd.concat([whisky_name, wastons_name], axis = 1)\n",
    "watsons_details.head()\n",
    "\n",
    "# add new columns in hkls_details\n",
    "watsons_details['Price'] = pd.Series(dtype='str')\n",
    "watsons_details['Stock'] = pd.Series(dtype='str')\n",
    "watsons_details['Volume'] = pd.Series(dtype='str')\n",
    "\n",
    "# obtain links \n",
    "page = watsons_details['watsons_link']\n",
    "\n",
    "# Web scrape price, volume and stock\n",
    "for index, p in enumerate(page):\n",
    "    if len(str(p))>5:\n",
    "    # Oillio's code to stop the banner\n",
    "        capa = DesiredCapabilities.CHROME\n",
    "        capa[\"pageLoadStrategy\"] = \"none\"\n",
    "        driver = webdriver.Chrome('../chromedriver',desired_capabilities=capa)\n",
    "        driver.get(p)\n",
    "        time.sleep(5)\n",
    "        driver.execute_script(\"window.stop();\")\n",
    "        driver.maximize_window()    \n",
    "\n",
    "        try:\n",
    "            watsons_details['Price'][index] = re.search(r'(\\$)(\\d+,\\d+)|(\\$)(\\d+)', driver.find_element_by_class_name(\"offer-price\").find_element_by_class_name(\"price\").text).group(2)\n",
    "        except:\n",
    "            watsons_details['Price'][index]= re.search(r'(\\$)(\\d+,\\d+)|(\\$)(\\d+)',driver.find_element_by_class_name(\"regular-price\").text).group(2)\n",
    "                    \n",
    "        try: \n",
    "            if driver.find_element_by_class_name(\"addProduct\").text == 'Out of Stock':\n",
    "                watsons_details['Stock'][index] = False\n",
    "            else:\n",
    "                watsons_details['Stock'][index] = True\n",
    "        except:\n",
    "            watsons_details['Stock'][index] = True\n",
    "        try:\n",
    "            watsons_details['Volume'][index] = str(int(re.search(r'(\\d+)(CL)$', driver.find_element_by_xpath('//*[@id=\"overview\"]/div/div/div[2]/table/tbody/tr[1]/td[2]').text).group(1))*10)+'ml'\n",
    "        except:\n",
    "            watsons_details['Volume'][index] = 'Not Available'\n",
    "\n",
    "watsons_details.to_csv('watsons_details.csv', index=False)"
   ]
  },
  {
   "source": [
    "## Update dataframe "
   ],
   "cell_type": "markdown",
   "metadata": {}
  },
  {
   "cell_type": "code",
   "execution_count": 118,
   "metadata": {},
   "outputs": [
    {
     "output_type": "execute_result",
     "data": {
      "text/plain": [
       "             Name                Year  \\\n",
       "0       Lagavulin                  16   \n",
       "1          Ardbeg                  10   \n",
       "2        Balvenie                  12   \n",
       "3       Laphroaig                  10   \n",
       "4    Glenmorangie                  10   \n",
       "..            ...                 ...   \n",
       "95   Chivas Regal                  18   \n",
       "96  Bruichladdich  the classic laddie   \n",
       "97     Glen Moray                  15   \n",
       "98      Aberfeldy                  16   \n",
       "99   Glenallachie                  10   \n",
       "\n",
       "                                         watsons_name  \\\n",
       "0           Lagavulin 16 Years Old Single Malt Whisky   \n",
       "1         Ardbeg 10 Year Old Islay Single Malt Whisky   \n",
       "2   Balvenie Doublewood 12 Years Single Malt Scotc...   \n",
       "3            Laphroaig 10 Year Old Single Malt Whisky   \n",
       "4                                                 NaN   \n",
       "..                                                ...   \n",
       "95                Chivas Regal 18 Years Scotch Whisky   \n",
       "96       Bruichladdich Classic Laddie Scottish Barley   \n",
       "97                                                NaN   \n",
       "98                                                NaN   \n",
       "99                                                NaN   \n",
       "\n",
       "                                         watsons_link Price  Stock Volume  \n",
       "0   https://www.watsonswine.com/en/wine/lagavulin-...   910   True  700ml  \n",
       "1   https://www.watsonswine.com/en/wine/ardbeg-10-...   680   True  700ml  \n",
       "2   https://www.watsonswine.com/en/wine/balvenie-d...   598   True  700ml  \n",
       "3   https://www.watsonswine.com/en/wine/laphroaig-...   728  False  700ml  \n",
       "4                                                 NaN   NaN    NaN    NaN  \n",
       "..                                                ...   ...    ...    ...  \n",
       "95  https://www.watsonswine.com/en/wine/chivas-reg...   698   True  700ml  \n",
       "96  https://www.watsonswine.com/en/wine/bruichladd...   668   True  700ml  \n",
       "97                                                NaN   NaN    NaN    NaN  \n",
       "98                                                NaN   NaN    NaN    NaN  \n",
       "99                                                NaN   NaN    NaN    NaN  \n",
       "\n",
       "[100 rows x 7 columns]"
      ],
      "text/html": "<div>\n<style scoped>\n    .dataframe tbody tr th:only-of-type {\n        vertical-align: middle;\n    }\n\n    .dataframe tbody tr th {\n        vertical-align: top;\n    }\n\n    .dataframe thead th {\n        text-align: right;\n    }\n</style>\n<table border=\"1\" class=\"dataframe\">\n  <thead>\n    <tr style=\"text-align: right;\">\n      <th></th>\n      <th>Name</th>\n      <th>Year</th>\n      <th>watsons_name</th>\n      <th>watsons_link</th>\n      <th>Price</th>\n      <th>Stock</th>\n      <th>Volume</th>\n    </tr>\n  </thead>\n  <tbody>\n    <tr>\n      <th>0</th>\n      <td>Lagavulin</td>\n      <td>16</td>\n      <td>Lagavulin 16 Years Old Single Malt Whisky</td>\n      <td>https://www.watsonswine.com/en/wine/lagavulin-...</td>\n      <td>910</td>\n      <td>True</td>\n      <td>700ml</td>\n    </tr>\n    <tr>\n      <th>1</th>\n      <td>Ardbeg</td>\n      <td>10</td>\n      <td>Ardbeg 10 Year Old Islay Single Malt Whisky</td>\n      <td>https://www.watsonswine.com/en/wine/ardbeg-10-...</td>\n      <td>680</td>\n      <td>True</td>\n      <td>700ml</td>\n    </tr>\n    <tr>\n      <th>2</th>\n      <td>Balvenie</td>\n      <td>12</td>\n      <td>Balvenie Doublewood 12 Years Single Malt Scotc...</td>\n      <td>https://www.watsonswine.com/en/wine/balvenie-d...</td>\n      <td>598</td>\n      <td>True</td>\n      <td>700ml</td>\n    </tr>\n    <tr>\n      <th>3</th>\n      <td>Laphroaig</td>\n      <td>10</td>\n      <td>Laphroaig 10 Year Old Single Malt Whisky</td>\n      <td>https://www.watsonswine.com/en/wine/laphroaig-...</td>\n      <td>728</td>\n      <td>False</td>\n      <td>700ml</td>\n    </tr>\n    <tr>\n      <th>4</th>\n      <td>Glenmorangie</td>\n      <td>10</td>\n      <td>NaN</td>\n      <td>NaN</td>\n      <td>NaN</td>\n      <td>NaN</td>\n      <td>NaN</td>\n    </tr>\n    <tr>\n      <th>...</th>\n      <td>...</td>\n      <td>...</td>\n      <td>...</td>\n      <td>...</td>\n      <td>...</td>\n      <td>...</td>\n      <td>...</td>\n    </tr>\n    <tr>\n      <th>95</th>\n      <td>Chivas Regal</td>\n      <td>18</td>\n      <td>Chivas Regal 18 Years Scotch Whisky</td>\n      <td>https://www.watsonswine.com/en/wine/chivas-reg...</td>\n      <td>698</td>\n      <td>True</td>\n      <td>700ml</td>\n    </tr>\n    <tr>\n      <th>96</th>\n      <td>Bruichladdich</td>\n      <td>the classic laddie</td>\n      <td>Bruichladdich Classic Laddie Scottish Barley</td>\n      <td>https://www.watsonswine.com/en/wine/bruichladd...</td>\n      <td>668</td>\n      <td>True</td>\n      <td>700ml</td>\n    </tr>\n    <tr>\n      <th>97</th>\n      <td>Glen Moray</td>\n      <td>15</td>\n      <td>NaN</td>\n      <td>NaN</td>\n      <td>NaN</td>\n      <td>NaN</td>\n      <td>NaN</td>\n    </tr>\n    <tr>\n      <th>98</th>\n      <td>Aberfeldy</td>\n      <td>16</td>\n      <td>NaN</td>\n      <td>NaN</td>\n      <td>NaN</td>\n      <td>NaN</td>\n      <td>NaN</td>\n    </tr>\n    <tr>\n      <th>99</th>\n      <td>Glenallachie</td>\n      <td>10</td>\n      <td>NaN</td>\n      <td>NaN</td>\n      <td>NaN</td>\n      <td>NaN</td>\n      <td>NaN</td>\n    </tr>\n  </tbody>\n</table>\n<p>100 rows × 7 columns</p>\n</div>"
     },
     "metadata": {},
     "execution_count": 118
    }
   ],
   "source": [
    "def update_watsons_detail():\n",
    "    watsons_details = pd.read_csv('watsons_details.csv')\n",
    "    page = watsons_details['watsons_link']\n",
    "\n",
    "    for index, p in enumerate(page):\n",
    "        if len(str(p))>5:\n",
    "        # Oillio's code to stop the banner\n",
    "            capa = DesiredCapabilities.CHROME\n",
    "            capa[\"pageLoadStrategy\"] = \"none\"\n",
    "            driver = webdriver.Chrome('../chromedriver',desired_capabilities=capa)\n",
    "            driver.get(p)\n",
    "            time.sleep(7)\n",
    "            driver.execute_script(\"window.stop();\")\n",
    "            driver.maximize_window()    \n",
    "\n",
    "            try:\n",
    "                watsons_details['Price'][index]= int(re.search(r'\\$\\d+,\\d+|\\$\\d+',driver.find_element_by_class_name(\"regular-price\").text).group().replace(',', '').replace('$', ''))\n",
    "            except:\n",
    "                watsons_details['Price'][index] = int(re.search(r'\\$\\d+,\\d+|\\$\\d+', driver.find_element_by_class_name(\"offer-price\").find_element_by_class_name(\"price\").text).group().replace(',', '').replace('$', ''))\n",
    "            try: \n",
    "                if driver.find_element_by_class_name(\"addProduct\").text == 'Out of Stock':\n",
    "                    watsons_details['Stock'][index] = False\n",
    "                else:\n",
    "                    watsons_details['Stock'][index] = True\n",
    "            except:\n",
    "                watsons_details['Stock'][index] = True\n",
    "      \n",
    "    watsons_details.to_csv('watsons_details.csv', index=False)\n",
    "    return watsons_details\n",
    "\n",
    "update_watsons_detail()\n",
    "    "
   ]
  },
  {
   "cell_type": "code",
   "execution_count": 119,
   "metadata": {},
   "outputs": [
    {
     "output_type": "execute_result",
     "data": {
      "text/plain": [
       "           Name Year                                       watsons_name  \\\n",
       "0     Lagavulin   16          Lagavulin 16 Years Old Single Malt Whisky   \n",
       "1        Ardbeg   10        Ardbeg 10 Year Old Islay Single Malt Whisky   \n",
       "2      Balvenie   12  Balvenie Doublewood 12 Years Single Malt Scotc...   \n",
       "3     Laphroaig   10           Laphroaig 10 Year Old Single Malt Whisky   \n",
       "4  Glenmorangie   10                                                NaN   \n",
       "\n",
       "                                        watsons_link  Price  Stock Volume  \n",
       "0  https://www.watsonswine.com/en/wine/lagavulin-...  910.0   True  700ml  \n",
       "1  https://www.watsonswine.com/en/wine/ardbeg-10-...  680.0   True  700ml  \n",
       "2  https://www.watsonswine.com/en/wine/balvenie-d...  598.0   True  700ml  \n",
       "3  https://www.watsonswine.com/en/wine/laphroaig-...  728.0  False  700ml  \n",
       "4                                                NaN    NaN    NaN    NaN  "
      ],
      "text/html": "<div>\n<style scoped>\n    .dataframe tbody tr th:only-of-type {\n        vertical-align: middle;\n    }\n\n    .dataframe tbody tr th {\n        vertical-align: top;\n    }\n\n    .dataframe thead th {\n        text-align: right;\n    }\n</style>\n<table border=\"1\" class=\"dataframe\">\n  <thead>\n    <tr style=\"text-align: right;\">\n      <th></th>\n      <th>Name</th>\n      <th>Year</th>\n      <th>watsons_name</th>\n      <th>watsons_link</th>\n      <th>Price</th>\n      <th>Stock</th>\n      <th>Volume</th>\n    </tr>\n  </thead>\n  <tbody>\n    <tr>\n      <th>0</th>\n      <td>Lagavulin</td>\n      <td>16</td>\n      <td>Lagavulin 16 Years Old Single Malt Whisky</td>\n      <td>https://www.watsonswine.com/en/wine/lagavulin-...</td>\n      <td>910.0</td>\n      <td>True</td>\n      <td>700ml</td>\n    </tr>\n    <tr>\n      <th>1</th>\n      <td>Ardbeg</td>\n      <td>10</td>\n      <td>Ardbeg 10 Year Old Islay Single Malt Whisky</td>\n      <td>https://www.watsonswine.com/en/wine/ardbeg-10-...</td>\n      <td>680.0</td>\n      <td>True</td>\n      <td>700ml</td>\n    </tr>\n    <tr>\n      <th>2</th>\n      <td>Balvenie</td>\n      <td>12</td>\n      <td>Balvenie Doublewood 12 Years Single Malt Scotc...</td>\n      <td>https://www.watsonswine.com/en/wine/balvenie-d...</td>\n      <td>598.0</td>\n      <td>True</td>\n      <td>700ml</td>\n    </tr>\n    <tr>\n      <th>3</th>\n      <td>Laphroaig</td>\n      <td>10</td>\n      <td>Laphroaig 10 Year Old Single Malt Whisky</td>\n      <td>https://www.watsonswine.com/en/wine/laphroaig-...</td>\n      <td>728.0</td>\n      <td>False</td>\n      <td>700ml</td>\n    </tr>\n    <tr>\n      <th>4</th>\n      <td>Glenmorangie</td>\n      <td>10</td>\n      <td>NaN</td>\n      <td>NaN</td>\n      <td>NaN</td>\n      <td>NaN</td>\n      <td>NaN</td>\n    </tr>\n  </tbody>\n</table>\n</div>"
     },
     "metadata": {},
     "execution_count": 119
    }
   ],
   "source": [
    "watsons_details=pd.read_csv('watsons_details.csv')\n",
    "watsons_details.head()"
   ]
  },
  {
   "source": [
    "## Select Whisky  "
   ],
   "cell_type": "markdown",
   "metadata": {}
  },
  {
   "cell_type": "code",
   "execution_count": 7,
   "metadata": {},
   "outputs": [],
   "source": [
    "def watsons_whisky(index):\n",
    "    watsons_details = pd.read_csv('watsons_details.csv')\n",
    "    name, address, price = None, None, None\n",
    "\n",
    "    if watsons_details['Stock'][index] == True:\n",
    "        name = 'Watson\\'s wine  (23 Stores with online shop)'\n",
    "        address = 'https://www.watsonswine.com/en'\n",
    "        price = watsons_details['Price'][index]\n",
    "\n",
    "    return [name,address,price]"
   ]
  },
  {
   "cell_type": "code",
   "execution_count": 8,
   "metadata": {},
   "outputs": [
    {
     "output_type": "execute_result",
     "data": {
      "text/plain": [
       "[\"Watson's wine  (23 Stores with online shop)\",\n",
       " 'https://www.watsonswine.com/en',\n",
       " 598.0]"
      ]
     },
     "metadata": {},
     "execution_count": 8
    }
   ],
   "source": [
    "# watsons_whisky['Stock'][2] ---> with stock\n",
    "watsons_whisky(2)"
   ]
  },
  {
   "cell_type": "code",
   "execution_count": 11,
   "metadata": {},
   "outputs": [
    {
     "output_type": "execute_result",
     "data": {
      "text/plain": [
       "[None, None, None]"
      ]
     },
     "metadata": {},
     "execution_count": 11
    }
   ],
   "source": [
    "# watsons_whisky['Stock'][3] ---> no stock\n",
    "watsons_whisky(3)"
   ]
  },
  {
   "cell_type": "code",
   "execution_count": 10,
   "metadata": {},
   "outputs": [
    {
     "output_type": "execute_result",
     "data": {
      "text/plain": [
       "[None, None, None]"
      ]
     },
     "metadata": {},
     "execution_count": 10
    }
   ],
   "source": [
    "# watsons_whisky['Stock'][4] ---> not selling\n",
    "watsons_whisky(4)"
   ]
  },
  {
   "cell_type": "code",
   "execution_count": null,
   "metadata": {},
   "outputs": [],
   "source": []
  },
  {
   "cell_type": "code",
   "execution_count": null,
   "metadata": {},
   "outputs": [],
   "source": []
  },
  {
   "cell_type": "code",
   "execution_count": null,
   "metadata": {},
   "outputs": [],
   "source": []
  },
  {
   "cell_type": "code",
   "execution_count": 65,
   "metadata": {},
   "outputs": [
    {
     "output_type": "stream",
     "name": "stdout",
     "text": [
      "71\n"
     ]
    }
   ],
   "source": [
    "# Scraping by content page but number of listing whisky not match \n",
    "page =['https://www.watsonswine.com/en/wine-list/whiskies/c/10010211','https://www.watsonswine.com/en/wine-list/whiskies/c/10010211?q=%3Adiscount&page=1&resultsForPage=72&text=&sort=']\n",
    "\n",
    "name, price, stock, volume = [],[],[],[]\n",
    "\n",
    "for p in page:\n",
    "    capa = DesiredCapabilities.CHROME\n",
    "    capa[\"pageLoadStrategy\"] = \"none\"\n",
    "    driver = webdriver.Chrome('../chromedriver',desired_capabilities=capa)\n",
    "    driver.get(p)\n",
    "    time.sleep(5)\n",
    "    driver.execute_script(\"window.stop();\")\n",
    "    driver.maximize_window()    \n",
    "\n",
    "    whiskies = driver.find_elements_by_class_name('intro')\n",
    "    whiskies_ava = driver.find_elements_by_class_name('addProduct')\n",
    "\n",
    "    for i in range(len(whiskies)):\n",
    "        name.append(whiskies[i].find_element_by_class_name('productName').text)\n",
    "        volume.append(whiskies[i].find_element_by_class_name('size').text)\n",
    "        try:\n",
    "            price.append(whiskies[i].find_element_by_class_name('s1').text)\n",
    "        except:\n",
    "            price.append(whiskies[i].find_element_by_class_name('s1 colorBlack').text)\n",
    "        try:\n",
    "            if whiskies_ava[i].find_element_by_class_name('out-stork'):\n",
    "                stock.append(False)\n",
    "        except: \n",
    "            stock.append(True)\n",
    "\n",
    "for index, list_w in enumerate(watsons_details['watsons_name']):\n",
    "    for i, name_w in enumerate(name):\n",
    "        if str(list_w).lower() == str(name_w).lower():\n",
    "            watsons_details['Price'][index] = re.search(r'\\$\\d+,\\d+|\\$\\d+',price[i]).group()\n",
    "            try:\n",
    "                watsons_details['Volume'][index] = str(int(re.search(r'(\\d+)(CL)$', volume[i]).group(1))*10)+'ml'\n",
    "            except:\n",
    "                watsons_details['Volume'][index] = 'Not Available'\n",
    "            watsons_details['Stock'][index] = stock[i]\n",
    "\n",
    "watsons_details.to_csv('watsons_details.csv', index=False)\n",
    "\n",
    "print (len(name))"
   ]
  }
 ]
}