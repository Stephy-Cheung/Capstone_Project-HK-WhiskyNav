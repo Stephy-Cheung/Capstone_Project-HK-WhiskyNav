{
 "metadata": {
  "language_info": {
   "codemirror_mode": {
    "name": "ipython",
    "version": 3
   },
   "file_extension": ".py",
   "mimetype": "text/x-python",
   "name": "python",
   "nbconvert_exporter": "python",
   "pygments_lexer": "ipython3",
   "version": "3.8.8"
  },
  "orig_nbformat": 4,
  "kernelspec": {
   "name": "python3",
   "display_name": "Python 3.8.8 64-bit ('FTDS': conda)"
  },
  "interpreter": {
   "hash": "7e7ae8b1718174e9f443afd7248b60321c4690586460e9e9bc3b215bfdbba77d"
  }
 },
 "nbformat": 4,
 "nbformat_minor": 2,
 "cells": [
  {
   "cell_type": "code",
   "execution_count": 1,
   "metadata": {},
   "outputs": [],
   "source": [
    "import pandas as pd\n",
    "from bs4 import BeautifulSoup\n",
    "import requests\n",
    "import re\n",
    "\n",
    "import time\n",
    "from selenium import webdriver \n",
    "from webdriver_manager.chrome import ChromeDriverManager"
   ]
  },
  {
   "source": [
    "## Version with only Distillery and Year \n",
    "#### (for remove duplicates)"
   ],
   "cell_type": "markdown",
   "metadata": {}
  },
  {
   "cell_type": "code",
   "execution_count": 4,
   "metadata": {},
   "outputs": [
    {
     "output_type": "stream",
     "name": "stderr",
     "text": [
      "\n",
      "\n",
      "====== WebDriver manager ======\n",
      "Current google-chrome version is 91.0.4472\n",
      "Get LATEST driver version for 91.0.4472\n",
      "Driver [C:\\Users\\user\\.wdm\\drivers\\chromedriver\\win32\\91.0.4472.101\\chromedriver.exe] found in cache\n"
     ]
    }
   ],
   "source": [
    "driver = webdriver.Chrome(ChromeDriverManager().install())\n",
    "\n",
    "driver.get('https://www.whisky.com/whisky-database/bottle-search/expert-taste-search/fdb/Bottles.html?w_age_min=5&w_video=1&w_image=1&w_ratingCount_min=10&tx_datamintsflaschendb_pi4%5BresultListLayout%5D=0&cHash=0e639d5b51424cd1a47227d596f3701c#dm_flaschendb_flasche_search_sorting')\n",
    "\n",
    "driver.maximize_window()\n",
    "\n",
    "click_agreement = driver.find_element_by_xpath(\"//a[@title='Accept']\")\n",
    "click_agreement.click()\n",
    "\n",
    "time.sleep(3)\n",
    "previous_height = driver.execute_script('return document.body.scrollHeight')\n",
    "\n",
    "while True:\n",
    "    driver.execute_script('window.scrollTo(0, document.body.scrollHeight);')\n",
    "    time.sleep(3)\n",
    "\n",
    "    new_height = driver.execute_script('return document.body.scrollHeight')\n",
    "    if new_height == previous_height:\n",
    "        break\n",
    "    previous_height = new_height\n",
    "\n",
    "name, year, keywords, volume = [],[],[],[]\n",
    "page = BeautifulSoup (driver.page_source, 'html.parser')\n",
    "\n",
    "whisky = page.find_all(class_= 'item item-wrap')\n",
    "top = 0\n",
    "\n",
    "# select only with rating\n",
    "for whisky_info in whisky:\n",
    "    if whisky_info.find(class_='rating-wrap') and top < 500:\n",
    "        top += 1\n",
    "    # take name\n",
    "        name += [whisky_info.find(class_ = 'marke').text]\n",
    "    # take year\n",
    "        #if whisky_info.find(class_ = 'alterEtikett'):\n",
    "        try:\n",
    "            year += [re.search(r'\\d+',(whisky_info.find(class_ = 'alterEtikett').text))[0]]\n",
    "        except: \n",
    "            year += [whisky_info.find(class_ = 'alteEtikett')]\n",
    "\n",
    "top_whisky = pd.DataFrame({'Name': name, 'Year': year})   \n",
    "top_whisky.drop_duplicates(inplace = True)\n",
    "top_whisky = top_whisky[:100]\n",
    "top_whisky['Name'] = top_whisky['Name'].apply(lambda x :x.strip())\n",
    "top_whisky.to_csv('Top100_whisky_trim.csv', index = False)\n"
   ]
  },
  {
   "source": [
    "## Version with Distillery, Year, keywords and volume "
   ],
   "cell_type": "markdown",
   "metadata": {}
  },
  {
   "cell_type": "code",
   "execution_count": null,
   "metadata": {},
   "outputs": [],
   "source": [
    "driver = webdriver.Chrome(ChromeDriverManager().install())\n",
    "\n",
    "driver.get('https://www.whisky.com/whisky-database/bottle-search/expert-taste-search/fdb/Bottles.html?w_age_min=5&w_video=1&w_image=1&w_ratingCount_min=10&tx_datamintsflaschendb_pi4%5BresultListLayout%5D=0&cHash=0e639d5b51424cd1a47227d596f3701c#dm_flaschendb_flasche_search_sorting')\n",
    "\n",
    "driver.maximize_window()\n",
    "\n",
    "# Accept cookie banner\n",
    "click_agreement = driver.find_element_by_xpath(\"//a[@title='Accept']\")\n",
    "click_agreement.click()\n",
    "\n",
    "time.sleep(3)\n",
    "previous_height = driver.execute_script('return document.body.scrollHeight')\n",
    "\n",
    "# Scroll to bottom\n",
    "while True:\n",
    "    driver.execute_script('window.scrollTo(0, document.body.scrollHeight);')\n",
    "    time.sleep(3)\n",
    "\n",
    "    new_height = driver.execute_script('return document.body.scrollHeight')\n",
    "    if new_height == previous_height:\n",
    "        break\n",
    "    previous_height = new_height\n",
    "\n",
    "# scraping\n",
    "name, year, keywords, volume = [],[],[],[]\n",
    "page = BeautifulSoup (driver.page_source, 'html.parser')\n",
    "\n",
    "whisky = page.find_all(class_= 'item item-wrap')\n",
    "top = 0\n",
    "\n",
    "# select only with rating\n",
    "for whisky_info in whisky:\n",
    "    if whisky_info.find(class_='rating-wrap') and top < 500:\n",
    "        top += 1\n",
    "    # take name\n",
    "        name += [whisky_info.find(class_ = 'marke').text]\n",
    "    # take year\n",
    "        #if whisky_info.find(class_ = 'alterEtikett'):\n",
    "        try:\n",
    "            year += [re.search(r'\\d+',(whisky_info.find(class_ = 'alterEtikett').text))[0]]\n",
    "        except: \n",
    "            year += [whisky_info.find(class_ = 'alteEtikett')]\n",
    "    # take keywords if any \n",
    "        if whisky_info.find(class_ = 'namenszusatz'):\n",
    "            keywords += [whisky_info.find(class_ = 'namenszusatz').text]\n",
    "        else:\n",
    "            keywords += [whisky_info.find(class_ = 'namenszusatz')]\n",
    "    # take volume\n",
    "        if whisky_info.find(class_ = 'flaschengroesse'):\n",
    "            volume += [float(re.search(r'\\d+\\.\\d+|\\d+',whisky_info.find(class_ = 'flaschengroesse').text)[0])*1000]\n",
    "        else:\n",
    "            volume += [whisky_info.find(class_ = 'flaschengroesse')]\n",
    "\n",
    "\n",
    "top_whisky = pd.DataFrame({'Name': name, 'Year': year, 'Keywords': keywords,'Size': volume})    \n",
    "top_whisky.to_csv('Top100_whisky.csv', index = True)\n"
   ]
  }
 ]
}