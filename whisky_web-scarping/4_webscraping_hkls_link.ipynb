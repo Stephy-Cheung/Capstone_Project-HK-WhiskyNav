{
 "metadata": {
  "language_info": {
   "codemirror_mode": {
    "name": "ipython",
    "version": 3
   },
   "file_extension": ".py",
   "mimetype": "text/x-python",
   "name": "python",
   "nbconvert_exporter": "python",
   "pygments_lexer": "ipython3",
   "version": "3.8.8"
  },
  "orig_nbformat": 4,
  "kernelspec": {
   "name": "python3",
   "display_name": "Python 3.8.8 64-bit ('FTDS': conda)"
  },
  "interpreter": {
   "hash": "7e7ae8b1718174e9f443afd7248b60321c4690586460e9e9bc3b215bfdbba77d"
  }
 },
 "nbformat": 4,
 "nbformat_minor": 2,
 "cells": [
  {
   "cell_type": "code",
   "execution_count": 31,
   "metadata": {},
   "outputs": [],
   "source": [
    "import pandas as pd\n",
    "from bs4 import BeautifulSoup \n",
    "import requests \n",
    "import re"
   ]
  },
  {
   "cell_type": "code",
   "execution_count": 3,
   "metadata": {},
   "outputs": [
    {
     "output_type": "execute_result",
     "data": {
      "text/plain": [
       "           Name Year                                          hkls_name  \\\n",
       "0     Lagavulin   16       Lagavulin 16 Years Single Malt Scotch Whisky   \n",
       "1        Ardbeg   10            Ardbeg Ten Years Old Single Malt Whisky   \n",
       "2      Balvenie   12  The Balvenie DoubleWood 12 Years Single Malt W...   \n",
       "3     Laphroaig   10       Laphroaig 10 Years Single Malt Scotch Whisky   \n",
       "4  Glenmorangie   10  Glenmorangie The Original 10 Years Single Malt...   \n",
       "\n",
       "                                           hkls_link  \\\n",
       "0  https://www.hkliquorstore.com/index.php/lagavu...   \n",
       "1  https://www.hkliquorstore.com/index.php/ardbeg...   \n",
       "2  https://www.hkliquorstore.com/index.php/the-ba...   \n",
       "3  https://www.hkliquorstore.com/index.php/laphro...   \n",
       "4  https://www.hkliquorstore.com/index.php/glenmo...   \n",
       "\n",
       "                                          price_name  \\\n",
       "0                            Lagavulin Aged 16 Years   \n",
       "1       Ardbeg 10 Years Old Single Malt Whisky 700ml   \n",
       "2                    Balvenie 12 Year Old DoubleWood   \n",
       "3                             Laphroaig 10 Years Old   \n",
       "4  Glenmorangie 10 YEAR OLD THE ORIGINAL', 'Glenm...   \n",
       "\n",
       "                                          price_link  \\\n",
       "0      https://www.price.com.hk/product.php?p=270584   \n",
       "1      https://www.price.com.hk/product.php?p=341421   \n",
       "2      https://www.price.com.hk/product.php?p=220964   \n",
       "3      https://www.price.com.hk/product.php?p=256951   \n",
       "4  https://www.price.com.hk/product.php?p=417769'...   \n",
       "\n",
       "                                        wastons_name  \\\n",
       "0          Lagavulin 16 Years Old Single Malt Whisky   \n",
       "1        Ardbeg 10 Year Old Islay Single Malt Whisky   \n",
       "2  Balvenie Doublewood 12 Years Single Malt Scotc...   \n",
       "3           Laphroaig 10 Year Old Single Malt Whisky   \n",
       "4                                                NaN   \n",
       "\n",
       "                                        wastons_link  \n",
       "0  https://www.watsonswine.com/en/wine/lagavulin-...  \n",
       "1  https://www.watsonswine.com/en/wine/ardbeg-10-...  \n",
       "2  https://www.watsonswine.com/en/wine/balvenie-d...  \n",
       "3  https://www.watsonswine.com/en/wine/laphroaig-...  \n",
       "4                                                NaN  "
      ],
      "text/html": "<div>\n<style scoped>\n    .dataframe tbody tr th:only-of-type {\n        vertical-align: middle;\n    }\n\n    .dataframe tbody tr th {\n        vertical-align: top;\n    }\n\n    .dataframe thead th {\n        text-align: right;\n    }\n</style>\n<table border=\"1\" class=\"dataframe\">\n  <thead>\n    <tr style=\"text-align: right;\">\n      <th></th>\n      <th>Name</th>\n      <th>Year</th>\n      <th>hkls_name</th>\n      <th>hkls_link</th>\n      <th>price_name</th>\n      <th>price_link</th>\n      <th>wastons_name</th>\n      <th>wastons_link</th>\n    </tr>\n  </thead>\n  <tbody>\n    <tr>\n      <th>0</th>\n      <td>Lagavulin</td>\n      <td>16</td>\n      <td>Lagavulin 16 Years Single Malt Scotch Whisky</td>\n      <td>https://www.hkliquorstore.com/index.php/lagavu...</td>\n      <td>Lagavulin Aged 16 Years</td>\n      <td>https://www.price.com.hk/product.php?p=270584</td>\n      <td>Lagavulin 16 Years Old Single Malt Whisky</td>\n      <td>https://www.watsonswine.com/en/wine/lagavulin-...</td>\n    </tr>\n    <tr>\n      <th>1</th>\n      <td>Ardbeg</td>\n      <td>10</td>\n      <td>Ardbeg Ten Years Old Single Malt Whisky</td>\n      <td>https://www.hkliquorstore.com/index.php/ardbeg...</td>\n      <td>Ardbeg 10 Years Old Single Malt Whisky 700ml</td>\n      <td>https://www.price.com.hk/product.php?p=341421</td>\n      <td>Ardbeg 10 Year Old Islay Single Malt Whisky</td>\n      <td>https://www.watsonswine.com/en/wine/ardbeg-10-...</td>\n    </tr>\n    <tr>\n      <th>2</th>\n      <td>Balvenie</td>\n      <td>12</td>\n      <td>The Balvenie DoubleWood 12 Years Single Malt W...</td>\n      <td>https://www.hkliquorstore.com/index.php/the-ba...</td>\n      <td>Balvenie 12 Year Old DoubleWood</td>\n      <td>https://www.price.com.hk/product.php?p=220964</td>\n      <td>Balvenie Doublewood 12 Years Single Malt Scotc...</td>\n      <td>https://www.watsonswine.com/en/wine/balvenie-d...</td>\n    </tr>\n    <tr>\n      <th>3</th>\n      <td>Laphroaig</td>\n      <td>10</td>\n      <td>Laphroaig 10 Years Single Malt Scotch Whisky</td>\n      <td>https://www.hkliquorstore.com/index.php/laphro...</td>\n      <td>Laphroaig 10 Years Old</td>\n      <td>https://www.price.com.hk/product.php?p=256951</td>\n      <td>Laphroaig 10 Year Old Single Malt Whisky</td>\n      <td>https://www.watsonswine.com/en/wine/laphroaig-...</td>\n    </tr>\n    <tr>\n      <th>4</th>\n      <td>Glenmorangie</td>\n      <td>10</td>\n      <td>Glenmorangie The Original 10 Years Single Malt...</td>\n      <td>https://www.hkliquorstore.com/index.php/glenmo...</td>\n      <td>Glenmorangie 10 YEAR OLD THE ORIGINAL', 'Glenm...</td>\n      <td>https://www.price.com.hk/product.php?p=417769'...</td>\n      <td>NaN</td>\n      <td>NaN</td>\n    </tr>\n  </tbody>\n</table>\n</div>"
     },
     "metadata": {},
     "execution_count": 3
    }
   ],
   "source": [
    "top100_whisky = pd.read_csv('Top100_whisky.csv')\n",
    "top100_whisky.head()"
   ]
  },
  {
   "source": [
    "## Create dataframe "
   ],
   "cell_type": "markdown",
   "metadata": {}
  },
  {
   "cell_type": "code",
   "execution_count": 25,
   "metadata": {},
   "outputs": [],
   "source": [
    "# create whisky details csv for hkls \n",
    "hkls_details = top100_whisky.iloc[:,0:4].copy()\n",
    "hkls_details.head()\n",
    "\n",
    "# add new columns in hkls_details\n",
    "hkls_details['Price'] = pd.Series(dtype='str')\n",
    "hkls_details['Stock'] = pd.Series(dtype='str')\n",
    "hkls_details['Volume'] = pd.Series(dtype='str')\n",
    "\n",
    "for w in range(len(hkls_details['Name'])):\n",
    "    if len(str(hkls_details['hkls_name'][w]))>5:\n",
    "        URL = hkls_details['hkls_link'][w]\n",
    "        html = requests.get(URL)\n",
    "        page = BeautifulSoup(html.text,'html.parser')\n",
    "\n",
    "        hkls_details['Price'][w] = page.find(class_ = 'price').text\n",
    "        if page.find (class_ = 'stock available'):\n",
    "            hkls_details['Stock'][w] = True\n",
    "        else:\n",
    "            hkls_details['Stock'][w] = False\n",
    "        try:\n",
    "            hkls_details['Volume'][w] = re.search(r'(Alcohol)(\\s)(\\d+\\w+)$', page.find(class_= 'product attribute overview').text)[3]\n",
    "        except:\n",
    "            hkls_details['Volume'][w] = 'Not available'\n",
    "\n",
    "hkls_details.to_csv('hkls_details.csv', index = False)"
   ]
  },
  {
   "source": [
    "## Update dataframe "
   ],
   "cell_type": "markdown",
   "metadata": {}
  },
  {
   "cell_type": "code",
   "execution_count": 53,
   "metadata": {},
   "outputs": [],
   "source": [
    "def update_hkls():\n",
    "    import pandas as pd\n",
    "    from bs4 import BeautifulSoup \n",
    "    import requests \n",
    "    import re\n",
    "\n",
    "    hkls_details = pd.read_csv('hkls_details.csv')\n",
    "\n",
    "    # update Price and Stock\n",
    "    for w in range(len(hkls_details['Name'])):\n",
    "        if len(str(hkls_details['hkls_name'][w]))>5:\n",
    "            URL = hkls_details['hkls_link'][w]\n",
    "            html = requests.get(URL)\n",
    "            page = BeautifulSoup(html.text,'html.parser')\n",
    "\n",
    "            hkls_details['Price'][w] = int(re.search(r'\\$\\d+,\\d+|\\$\\d+',page.find(class_ = 'price').text).group().replace('$', '').replace(',',''))\n",
    "            if page.find (class_ = 'stock available'):\n",
    "                hkls_details['Stock'][w] = True\n",
    "            else:\n",
    "                hkls_details['Stock'][w] = False\n",
    "            \n",
    "    hkls_details.to_csv('hkls_details.csv', index = False)\n",
    "    return hkls_details\n"
   ]
  },
  {
   "cell_type": "code",
   "execution_count": 54,
   "metadata": {},
   "outputs": [
    {
     "output_type": "execute_result",
     "data": {
      "text/plain": [
       "             Name                Year  \\\n",
       "0       Lagavulin                  16   \n",
       "1          Ardbeg                  10   \n",
       "2        Balvenie                  12   \n",
       "3       Laphroaig                  10   \n",
       "4    Glenmorangie                  10   \n",
       "..            ...                 ...   \n",
       "95   Chivas Regal                  18   \n",
       "96  Bruichladdich  the classic laddie   \n",
       "97     Glen Moray                  15   \n",
       "98      Aberfeldy                  16   \n",
       "99   Glenallachie                  10   \n",
       "\n",
       "                                            hkls_name  \\\n",
       "0        Lagavulin 16 Years Single Malt Scotch Whisky   \n",
       "1             Ardbeg Ten Years Old Single Malt Whisky   \n",
       "2   The Balvenie DoubleWood 12 Years Single Malt W...   \n",
       "3        Laphroaig 10 Years Single Malt Scotch Whisky   \n",
       "4   Glenmorangie The Original 10 Years Single Malt...   \n",
       "..                                                ...   \n",
       "95                              Chivas Regal 18 Years   \n",
       "96   Bruichladdich Scottish Barley The Classic Laddie   \n",
       "97                                                NaN   \n",
       "98              Aberfeldy 16 Years Single Malt Whisky   \n",
       "99  The GlenAllachie 10 Years Cask Strength Batch ...   \n",
       "\n",
       "                                            hkls_link Price  Stock Volume  \n",
       "0   https://www.hkliquorstore.com/index.php/lagavu...   888   True  700ml  \n",
       "1   https://www.hkliquorstore.com/index.php/ardbeg...   648   True  700ml  \n",
       "2   https://www.hkliquorstore.com/index.php/the-ba...   688   True  700ml  \n",
       "3   https://www.hkliquorstore.com/index.php/laphro...   688   True  700ml  \n",
       "4   https://www.hkliquorstore.com/index.php/glenmo...   498   True  700ml  \n",
       "..                                                ...   ...    ...    ...  \n",
       "95  https://www.hkliquorstore.com/index.php/chivas...   828   True  700ml  \n",
       "96  https://www.hkliquorstore.com/index.php/bruich...   648   True  700ml  \n",
       "97                                                NaN   NaN    NaN    NaN  \n",
       "98  https://www.hkliquorstore.com/index.php/aberfe...  1278   True  700ml  \n",
       "99  https://www.hkliquorstore.com/index.php/the-gl...   998  False  700ml  \n",
       "\n",
       "[100 rows x 7 columns]"
      ],
      "text/html": "<div>\n<style scoped>\n    .dataframe tbody tr th:only-of-type {\n        vertical-align: middle;\n    }\n\n    .dataframe tbody tr th {\n        vertical-align: top;\n    }\n\n    .dataframe thead th {\n        text-align: right;\n    }\n</style>\n<table border=\"1\" class=\"dataframe\">\n  <thead>\n    <tr style=\"text-align: right;\">\n      <th></th>\n      <th>Name</th>\n      <th>Year</th>\n      <th>hkls_name</th>\n      <th>hkls_link</th>\n      <th>Price</th>\n      <th>Stock</th>\n      <th>Volume</th>\n    </tr>\n  </thead>\n  <tbody>\n    <tr>\n      <th>0</th>\n      <td>Lagavulin</td>\n      <td>16</td>\n      <td>Lagavulin 16 Years Single Malt Scotch Whisky</td>\n      <td>https://www.hkliquorstore.com/index.php/lagavu...</td>\n      <td>888</td>\n      <td>True</td>\n      <td>700ml</td>\n    </tr>\n    <tr>\n      <th>1</th>\n      <td>Ardbeg</td>\n      <td>10</td>\n      <td>Ardbeg Ten Years Old Single Malt Whisky</td>\n      <td>https://www.hkliquorstore.com/index.php/ardbeg...</td>\n      <td>648</td>\n      <td>True</td>\n      <td>700ml</td>\n    </tr>\n    <tr>\n      <th>2</th>\n      <td>Balvenie</td>\n      <td>12</td>\n      <td>The Balvenie DoubleWood 12 Years Single Malt W...</td>\n      <td>https://www.hkliquorstore.com/index.php/the-ba...</td>\n      <td>688</td>\n      <td>True</td>\n      <td>700ml</td>\n    </tr>\n    <tr>\n      <th>3</th>\n      <td>Laphroaig</td>\n      <td>10</td>\n      <td>Laphroaig 10 Years Single Malt Scotch Whisky</td>\n      <td>https://www.hkliquorstore.com/index.php/laphro...</td>\n      <td>688</td>\n      <td>True</td>\n      <td>700ml</td>\n    </tr>\n    <tr>\n      <th>4</th>\n      <td>Glenmorangie</td>\n      <td>10</td>\n      <td>Glenmorangie The Original 10 Years Single Malt...</td>\n      <td>https://www.hkliquorstore.com/index.php/glenmo...</td>\n      <td>498</td>\n      <td>True</td>\n      <td>700ml</td>\n    </tr>\n    <tr>\n      <th>...</th>\n      <td>...</td>\n      <td>...</td>\n      <td>...</td>\n      <td>...</td>\n      <td>...</td>\n      <td>...</td>\n      <td>...</td>\n    </tr>\n    <tr>\n      <th>95</th>\n      <td>Chivas Regal</td>\n      <td>18</td>\n      <td>Chivas Regal 18 Years</td>\n      <td>https://www.hkliquorstore.com/index.php/chivas...</td>\n      <td>828</td>\n      <td>True</td>\n      <td>700ml</td>\n    </tr>\n    <tr>\n      <th>96</th>\n      <td>Bruichladdich</td>\n      <td>the classic laddie</td>\n      <td>Bruichladdich Scottish Barley The Classic Laddie</td>\n      <td>https://www.hkliquorstore.com/index.php/bruich...</td>\n      <td>648</td>\n      <td>True</td>\n      <td>700ml</td>\n    </tr>\n    <tr>\n      <th>97</th>\n      <td>Glen Moray</td>\n      <td>15</td>\n      <td>NaN</td>\n      <td>NaN</td>\n      <td>NaN</td>\n      <td>NaN</td>\n      <td>NaN</td>\n    </tr>\n    <tr>\n      <th>98</th>\n      <td>Aberfeldy</td>\n      <td>16</td>\n      <td>Aberfeldy 16 Years Single Malt Whisky</td>\n      <td>https://www.hkliquorstore.com/index.php/aberfe...</td>\n      <td>1278</td>\n      <td>True</td>\n      <td>700ml</td>\n    </tr>\n    <tr>\n      <th>99</th>\n      <td>Glenallachie</td>\n      <td>10</td>\n      <td>The GlenAllachie 10 Years Cask Strength Batch ...</td>\n      <td>https://www.hkliquorstore.com/index.php/the-gl...</td>\n      <td>998</td>\n      <td>False</td>\n      <td>700ml</td>\n    </tr>\n  </tbody>\n</table>\n<p>100 rows × 7 columns</p>\n</div>"
     },
     "metadata": {},
     "execution_count": 54
    }
   ],
   "source": [
    "update_hkls()"
   ]
  },
  {
   "cell_type": "code",
   "execution_count": 31,
   "metadata": {},
   "outputs": [
    {
     "output_type": "execute_result",
     "data": {
      "text/plain": [
       "           Name Year                                          hkls_name  \\\n",
       "0     Lagavulin   16       Lagavulin 16 Years Single Malt Scotch Whisky   \n",
       "1        Ardbeg   10            Ardbeg Ten Years Old Single Malt Whisky   \n",
       "2      Balvenie   12  The Balvenie DoubleWood 12 Years Single Malt W...   \n",
       "3     Laphroaig   10       Laphroaig 10 Years Single Malt Scotch Whisky   \n",
       "4  Glenmorangie   10  Glenmorangie The Original 10 Years Single Malt...   \n",
       "\n",
       "                                           hkls_link      Price Stock Volume  \n",
       "0  https://www.hkliquorstore.com/index.php/lagavu...  HK$888.00  True  700ml  \n",
       "1  https://www.hkliquorstore.com/index.php/ardbeg...  HK$648.00  True  700ml  \n",
       "2  https://www.hkliquorstore.com/index.php/the-ba...  HK$688.00  True  700ml  \n",
       "3  https://www.hkliquorstore.com/index.php/laphro...  HK$688.00  True  700ml  \n",
       "4  https://www.hkliquorstore.com/index.php/glenmo...  HK$498.00  True  700ml  "
      ],
      "text/html": "<div>\n<style scoped>\n    .dataframe tbody tr th:only-of-type {\n        vertical-align: middle;\n    }\n\n    .dataframe tbody tr th {\n        vertical-align: top;\n    }\n\n    .dataframe thead th {\n        text-align: right;\n    }\n</style>\n<table border=\"1\" class=\"dataframe\">\n  <thead>\n    <tr style=\"text-align: right;\">\n      <th></th>\n      <th>Name</th>\n      <th>Year</th>\n      <th>hkls_name</th>\n      <th>hkls_link</th>\n      <th>Price</th>\n      <th>Stock</th>\n      <th>Volume</th>\n    </tr>\n  </thead>\n  <tbody>\n    <tr>\n      <th>0</th>\n      <td>Lagavulin</td>\n      <td>16</td>\n      <td>Lagavulin 16 Years Single Malt Scotch Whisky</td>\n      <td>https://www.hkliquorstore.com/index.php/lagavu...</td>\n      <td>HK$888.00</td>\n      <td>True</td>\n      <td>700ml</td>\n    </tr>\n    <tr>\n      <th>1</th>\n      <td>Ardbeg</td>\n      <td>10</td>\n      <td>Ardbeg Ten Years Old Single Malt Whisky</td>\n      <td>https://www.hkliquorstore.com/index.php/ardbeg...</td>\n      <td>HK$648.00</td>\n      <td>True</td>\n      <td>700ml</td>\n    </tr>\n    <tr>\n      <th>2</th>\n      <td>Balvenie</td>\n      <td>12</td>\n      <td>The Balvenie DoubleWood 12 Years Single Malt W...</td>\n      <td>https://www.hkliquorstore.com/index.php/the-ba...</td>\n      <td>HK$688.00</td>\n      <td>True</td>\n      <td>700ml</td>\n    </tr>\n    <tr>\n      <th>3</th>\n      <td>Laphroaig</td>\n      <td>10</td>\n      <td>Laphroaig 10 Years Single Malt Scotch Whisky</td>\n      <td>https://www.hkliquorstore.com/index.php/laphro...</td>\n      <td>HK$688.00</td>\n      <td>True</td>\n      <td>700ml</td>\n    </tr>\n    <tr>\n      <th>4</th>\n      <td>Glenmorangie</td>\n      <td>10</td>\n      <td>Glenmorangie The Original 10 Years Single Malt...</td>\n      <td>https://www.hkliquorstore.com/index.php/glenmo...</td>\n      <td>HK$498.00</td>\n      <td>True</td>\n      <td>700ml</td>\n    </tr>\n  </tbody>\n</table>\n</div>"
     },
     "metadata": {},
     "execution_count": 31
    }
   ],
   "source": [
    "hkls_details.head()"
   ]
  },
  {
   "source": [
    "## Select whisky"
   ],
   "cell_type": "markdown",
   "metadata": {}
  },
  {
   "cell_type": "code",
   "execution_count": 78,
   "metadata": {},
   "outputs": [],
   "source": [
    "def hkls_whisky(index):\n",
    "    hkls_details = pd.read_csv('hkls_details.csv')\n",
    "    name, address, price = None, None, None\n",
    "\n",
    "    if hkls_details['Stock'][index] == True:\n",
    "        name = 'Hong Kong Liquor Store (10 Stores with online shop)'\n",
    "        address = 'https://www.hkliquorstore.com/locations'\n",
    "        price = hkls_details['Price'][index]\n",
    "\n",
    "    return [name,address,price]"
   ]
  },
  {
   "cell_type": "code",
   "execution_count": 92,
   "metadata": {},
   "outputs": [
    {
     "output_type": "execute_result",
     "data": {
      "text/plain": [
       "[None, None, None]"
      ]
     },
     "metadata": {},
     "execution_count": 92
    }
   ],
   "source": [
    "# hkls_details['Stock'][12] ---> no stock \n",
    "hkls_whisky(12)"
   ]
  },
  {
   "cell_type": "code",
   "execution_count": 93,
   "metadata": {},
   "outputs": [
    {
     "output_type": "execute_result",
     "data": {
      "text/plain": [
       "['Hong Kong Liquor Store (10 Stores with online shop)',\n",
       " 'https://www.hkliquorstore.com/locations',\n",
       " 648.0]"
      ]
     },
     "metadata": {},
     "execution_count": 93
    }
   ],
   "source": [
    "# hkls_details['Stock'][14] ---> have stock \n",
    "hkls_whisky(14)"
   ]
  },
  {
   "cell_type": "code",
   "execution_count": 94,
   "metadata": {},
   "outputs": [
    {
     "output_type": "execute_result",
     "data": {
      "text/plain": [
       "[None, None, None]"
      ]
     },
     "metadata": {},
     "execution_count": 94
    }
   ],
   "source": [
    "# hkls_details['Stock'][17] ---> not selling \n",
    "hkls_whisky(17)"
   ]
  },
  {
   "cell_type": "code",
   "execution_count": null,
   "metadata": {},
   "outputs": [],
   "source": []
  }
 ]
}